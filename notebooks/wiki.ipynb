{
 "cells": [
  {
   "cell_type": "markdown",
   "metadata": {},
   "source": [
    "## topspot\n",
    "\n",
    "This a package is essentially a set of wrappers around the spotify python api package [spotipy](https://spotipy.readthedocs.io/en/2.12.0/#). topspot faciliates command line scripting with autohotkey, letting me create hotkeys to get spotify search results, control playback, and manage playlist content, etc."
   ]
  },
  {
   "cell_type": "markdown",
   "metadata": {},
   "source": [
    "### Utilities (utilities.py)"
   ]
  },
  {
   "cell_type": "code",
   "execution_count": 5,
   "metadata": {},
   "outputs": [
    {
     "name": "stdout",
     "output_type": "stream",
     "text": [
      "Found track_uri: spotify:track:1o6cCxg925dqC1vykvWFTr\n",
      "Track name: Neon Lights\n",
      "for query: I Break Horses  “Neon Lights”\n"
     ]
    }
   ],
   "source": [
    "from topspot import utilities\n",
    "# Most functions I've written that instatiate a client or user\n",
    "# spotify object will include the set_env_vars line to make sure \n",
    "# that python knows my client_id and other params stored in \n",
    "# constants.py\n",
    "\n",
    "# Get the first track uri returned in search for clipboard\n",
    "clipboard_uri = utilities.get_clipboard_uri()"
   ]
  },
  {
   "cell_type": "markdown",
   "metadata": {},
   "source": [
    "### Track tools (track.py)"
   ]
  },
  {
   "cell_type": "markdown",
   "metadata": {},
   "source": [
    "#### Get a DataFrame of the 50 most recently played tracks. \n",
    "Can also pass a `track_dicts` list to `track.tracks_df()`as a kwarg. For example, get a `track_dicts` list from `playlist.get_playlist_tracks()`. To get a list of artist_ids for a track at row, use `tracks_df.loc[row, artist_id].split('|')`"
   ]
  },
  {
   "cell_type": "code",
   "execution_count": 6,
   "metadata": {},
   "outputs": [
    {
     "data": {
      "text/html": [
       "<div>\n",
       "<style scoped>\n",
       "    .dataframe tbody tr th:only-of-type {\n",
       "        vertical-align: middle;\n",
       "    }\n",
       "\n",
       "    .dataframe tbody tr th {\n",
       "        vertical-align: top;\n",
       "    }\n",
       "\n",
       "    .dataframe thead th {\n",
       "        text-align: right;\n",
       "    }\n",
       "</style>\n",
       "<table border=\"1\" class=\"dataframe\">\n",
       "  <thead>\n",
       "    <tr style=\"text-align: right;\">\n",
       "      <th></th>\n",
       "      <th>name</th>\n",
       "      <th>uri</th>\n",
       "      <th>id</th>\n",
       "      <th>artist_name</th>\n",
       "      <th>artist_id</th>\n",
       "      <th>release_date</th>\n",
       "      <th>played_at</th>\n",
       "    </tr>\n",
       "  </thead>\n",
       "  <tbody>\n",
       "    <tr>\n",
       "      <th>0</th>\n",
       "      <td>Brutalisme</td>\n",
       "      <td>spotify:track:1dzoPsCEYvZCqhtTNFDccd</td>\n",
       "      <td>1dzoPsCEYvZCqhtTNFDccd</td>\n",
       "      <td>Flavien Berger</td>\n",
       "      <td>5PyU5aVBI66v0pkCIvEJfu</td>\n",
       "      <td>2018-09-28</td>\n",
       "      <td>2020-07-11 20:12:51.255</td>\n",
       "    </tr>\n",
       "    <tr>\n",
       "      <th>1</th>\n",
       "      <td>If You’re Too Shy (Let Me Know)</td>\n",
       "      <td>spotify:track:1n4vgMWmmNlXrvyxQFhUEl</td>\n",
       "      <td>1n4vgMWmmNlXrvyxQFhUEl</td>\n",
       "      <td>The 1975</td>\n",
       "      <td>3mIj9lX2MWuHmhNCA7LSCW</td>\n",
       "      <td>2020-04-23</td>\n",
       "      <td>2020-07-11 20:09:06.898</td>\n",
       "    </tr>\n",
       "    <tr>\n",
       "      <th>2</th>\n",
       "      <td>I'll Take It Boring</td>\n",
       "      <td>spotify:track:1YXevBwffBF9tH0IC1D1yt</td>\n",
       "      <td>1YXevBwffBF9tH0IC1D1yt</td>\n",
       "      <td>Jordana</td>\n",
       "      <td>5Bw9kFNhy019e4IBCJZlzw</td>\n",
       "      <td>2020-05-12</td>\n",
       "      <td>2020-07-11 20:03:47.031</td>\n",
       "    </tr>\n",
       "    <tr>\n",
       "      <th>3</th>\n",
       "      <td>Bad Friend</td>\n",
       "      <td>spotify:track:732FkQ12zMwfqKKJGsChmY</td>\n",
       "      <td>732FkQ12zMwfqKKJGsChmY</td>\n",
       "      <td>Rina Sawayama</td>\n",
       "      <td>2KEqzdPS7M5YwGmiuPTdr5</td>\n",
       "      <td>2020-04-15</td>\n",
       "      <td>2020-07-11 20:00:37.041</td>\n",
       "    </tr>\n",
       "    <tr>\n",
       "      <th>4</th>\n",
       "      <td>Twisted</td>\n",
       "      <td>spotify:track:4X1oA1PiUMc54lWBF8bUzJ</td>\n",
       "      <td>4X1oA1PiUMc54lWBF8bUzJ</td>\n",
       "      <td>Johanna Warren</td>\n",
       "      <td>2K5c4N7j15hUwrvv0ejlvV</td>\n",
       "      <td>2020-05-01</td>\n",
       "      <td>2020-07-11 19:57:08.427</td>\n",
       "    </tr>\n",
       "  </tbody>\n",
       "</table>\n",
       "</div>"
      ],
      "text/plain": [
       "                              name                                   uri  \\\n",
       "0                       Brutalisme  spotify:track:1dzoPsCEYvZCqhtTNFDccd   \n",
       "1  If You’re Too Shy (Let Me Know)  spotify:track:1n4vgMWmmNlXrvyxQFhUEl   \n",
       "2              I'll Take It Boring  spotify:track:1YXevBwffBF9tH0IC1D1yt   \n",
       "3                       Bad Friend  spotify:track:732FkQ12zMwfqKKJGsChmY   \n",
       "4                          Twisted  spotify:track:4X1oA1PiUMc54lWBF8bUzJ   \n",
       "\n",
       "                       id     artist_name               artist_id  \\\n",
       "0  1dzoPsCEYvZCqhtTNFDccd  Flavien Berger  5PyU5aVBI66v0pkCIvEJfu   \n",
       "1  1n4vgMWmmNlXrvyxQFhUEl        The 1975  3mIj9lX2MWuHmhNCA7LSCW   \n",
       "2  1YXevBwffBF9tH0IC1D1yt         Jordana  5Bw9kFNhy019e4IBCJZlzw   \n",
       "3  732FkQ12zMwfqKKJGsChmY   Rina Sawayama  2KEqzdPS7M5YwGmiuPTdr5   \n",
       "4  4X1oA1PiUMc54lWBF8bUzJ  Johanna Warren  2K5c4N7j15hUwrvv0ejlvV   \n",
       "\n",
       "  release_date               played_at  \n",
       "0   2018-09-28 2020-07-11 20:12:51.255  \n",
       "1   2020-04-23 2020-07-11 20:09:06.898  \n",
       "2   2020-05-12 2020-07-11 20:03:47.031  \n",
       "3   2020-04-15 2020-07-11 20:00:37.041  \n",
       "4   2020-05-01 2020-07-11 19:57:08.427  "
      ]
     },
     "execution_count": 6,
     "metadata": {},
     "output_type": "execute_result"
    }
   ],
   "source": [
    "from topspot import track\n",
    "\n",
    "tracks_df = track.tracks_df()\n",
    "tracks_df.head()"
   ]
  },
  {
   "cell_type": "markdown",
   "metadata": {},
   "source": [
    "### Listening history etc. (database.py)"
   ]
  },
  {
   "cell_type": "code",
   "execution_count": 1,
   "metadata": {},
   "outputs": [
    {
     "name": "stdout",
     "output_type": "stream",
     "text": [
      "Found df at: /home/johnpcooper/projects/topspot/topspot/track_history_df.json\n",
      "track_history_df updated at 2021-01-31 14:03:46.960906\n"
     ]
    }
   ],
   "source": [
    "from topspot import database\n",
    "database.update_track_history()"
   ]
  },
  {
   "cell_type": "code",
   "execution_count": 3,
   "metadata": {},
   "outputs": [],
   "source": [
    "import pandas as pd\n",
    "df = pd.read_json(\"/home/johnpcooper/projects/topspot/topspot/track_history_df.json\")"
   ]
  },
  {
   "cell_type": "code",
   "execution_count": 4,
   "metadata": {},
   "outputs": [
    {
     "data": {
      "text/html": [
       "<div>\n",
       "<style scoped>\n",
       "    .dataframe tbody tr th:only-of-type {\n",
       "        vertical-align: middle;\n",
       "    }\n",
       "\n",
       "    .dataframe tbody tr th {\n",
       "        vertical-align: top;\n",
       "    }\n",
       "\n",
       "    .dataframe thead th {\n",
       "        text-align: right;\n",
       "    }\n",
       "</style>\n",
       "<table border=\"1\" class=\"dataframe\">\n",
       "  <thead>\n",
       "    <tr style=\"text-align: right;\">\n",
       "      <th></th>\n",
       "      <th>name</th>\n",
       "      <th>uri</th>\n",
       "      <th>id</th>\n",
       "      <th>artist_name</th>\n",
       "      <th>artist_id</th>\n",
       "      <th>release_date</th>\n",
       "      <th>played_at</th>\n",
       "    </tr>\n",
       "  </thead>\n",
       "  <tbody>\n",
       "    <tr>\n",
       "      <th>0</th>\n",
       "      <td>Vérité</td>\n",
       "      <td>spotify:track:0892wPiVU3lHRaH7L6l7g1</td>\n",
       "      <td>0892wPiVU3lHRaH7L6l7g1</td>\n",
       "      <td>Claire Laffut</td>\n",
       "      <td>69zVBf7wk5vKWsTF7zE5CC</td>\n",
       "      <td>2018-03-02</td>\n",
       "      <td>2020-07-11 19:42:56.742</td>\n",
       "    </tr>\n",
       "    <tr>\n",
       "      <th>1</th>\n",
       "      <td>Cool Cat</td>\n",
       "      <td>spotify:track:3Zv9r86H4TdZ42xyes7fK0</td>\n",
       "      <td>3Zv9r86H4TdZ42xyes7fK0</td>\n",
       "      <td>Juliette Armanet</td>\n",
       "      <td>61CPKXT0bcKj8MKTNTMOXa</td>\n",
       "      <td>2018-12-11</td>\n",
       "      <td>2020-07-11 19:39:10.324</td>\n",
       "    </tr>\n",
       "    <tr>\n",
       "      <th>2</th>\n",
       "      <td>Brutalisme</td>\n",
       "      <td>spotify:track:1dzoPsCEYvZCqhtTNFDccd</td>\n",
       "      <td>1dzoPsCEYvZCqhtTNFDccd</td>\n",
       "      <td>Flavien Berger</td>\n",
       "      <td>5PyU5aVBI66v0pkCIvEJfu</td>\n",
       "      <td>2018-09-28</td>\n",
       "      <td>2020-07-11 19:35:28.587</td>\n",
       "    </tr>\n",
       "    <tr>\n",
       "      <th>3</th>\n",
       "      <td>Anchoko Nuki no Love Song</td>\n",
       "      <td>spotify:track:3I71FrnbInvfOukpriY0Ig</td>\n",
       "      <td>3I71FrnbInvfOukpriY0Ig</td>\n",
       "      <td>Yuuyu</td>\n",
       "      <td>2ZsnzW78Czt4EQAIOlBsWL</td>\n",
       "      <td>2017-11-01</td>\n",
       "      <td>2020-07-11 19:31:44.249</td>\n",
       "    </tr>\n",
       "    <tr>\n",
       "      <th>4</th>\n",
       "      <td>All Aboard</td>\n",
       "      <td>spotify:track:1fN8wXmjEXMd5AszEwOHah</td>\n",
       "      <td>1fN8wXmjEXMd5AszEwOHah</td>\n",
       "      <td>Garoad</td>\n",
       "      <td>1oMOdABcJgXgiplesecR1U</td>\n",
       "      <td>2017-06-13</td>\n",
       "      <td>2020-07-11 19:28:05.682</td>\n",
       "    </tr>\n",
       "    <tr>\n",
       "      <th>...</th>\n",
       "      <td>...</td>\n",
       "      <td>...</td>\n",
       "      <td>...</td>\n",
       "      <td>...</td>\n",
       "      <td>...</td>\n",
       "      <td>...</td>\n",
       "      <td>...</td>\n",
       "    </tr>\n",
       "    <tr>\n",
       "      <th>3210</th>\n",
       "      <td>Shrug</td>\n",
       "      <td>spotify:track:2BYqJBHBGQ9XQsCWbvEdJh</td>\n",
       "      <td>2BYqJBHBGQ9XQsCWbvEdJh</td>\n",
       "      <td>Rat Tally</td>\n",
       "      <td>7kLaLiBdbGiIC6jYwcpZbb</td>\n",
       "      <td>2021-01-15</td>\n",
       "      <td>2021-01-28 18:11:04.744</td>\n",
       "    </tr>\n",
       "    <tr>\n",
       "      <th>3211</th>\n",
       "      <td>Al Sur</td>\n",
       "      <td>spotify:track:6mrxKzfu4L3AcDxPwYPjUs</td>\n",
       "      <td>6mrxKzfu4L3AcDxPwYPjUs</td>\n",
       "      <td>The Notwist|Juana Molina</td>\n",
       "      <td>1o4xLcugkCtDDOw7POAMha|76hliHkgP5eIbVqLT7NmQ3</td>\n",
       "      <td>2021-01-15</td>\n",
       "      <td>2021-01-28 18:08:33.749</td>\n",
       "    </tr>\n",
       "    <tr>\n",
       "      <th>3212</th>\n",
       "      <td>Jungle Mantra - From the Netflix Film \"The Whi...</td>\n",
       "      <td>spotify:track:2bpdLGinxI9Dqt5fi8zVxF</td>\n",
       "      <td>2bpdLGinxI9Dqt5fi8zVxF</td>\n",
       "      <td>DIVINE|Vince Staples|Pusha T</td>\n",
       "      <td>4Ai0pGz6GhQavjzaRhPTvz|68kEuyFKyqrdQQLLsmiatm|...</td>\n",
       "      <td>2021-01-15</td>\n",
       "      <td>2021-01-28 18:05:51.875</td>\n",
       "    </tr>\n",
       "    <tr>\n",
       "      <th>3213</th>\n",
       "      <td>Dead Hand Control</td>\n",
       "      <td>spotify:track:1BpjivIaFve0nwZtC9Cm3t</td>\n",
       "      <td>1BpjivIaFve0nwZtC9Cm3t</td>\n",
       "      <td>Baio</td>\n",
       "      <td>50lhyY7UVI9NyVHl79rVgk</td>\n",
       "      <td>2021-01-15</td>\n",
       "      <td>2021-01-28 18:02:10.669</td>\n",
       "    </tr>\n",
       "    <tr>\n",
       "      <th>3214</th>\n",
       "      <td>Roaring 20s</td>\n",
       "      <td>spotify:track:5N4oNpf3YH76vNhXKc5usy</td>\n",
       "      <td>5N4oNpf3YH76vNhXKc5usy</td>\n",
       "      <td>Flo Milli</td>\n",
       "      <td>08PvCOlef4xdOr20jFSTPd</td>\n",
       "      <td>2021-01-15</td>\n",
       "      <td>2021-01-28 17:58:35.278</td>\n",
       "    </tr>\n",
       "  </tbody>\n",
       "</table>\n",
       "<p>3215 rows × 7 columns</p>\n",
       "</div>"
      ],
      "text/plain": [
       "                                                   name  \\\n",
       "0                                                Vérité   \n",
       "1                                              Cool Cat   \n",
       "2                                            Brutalisme   \n",
       "3                             Anchoko Nuki no Love Song   \n",
       "4                                            All Aboard   \n",
       "...                                                 ...   \n",
       "3210                                              Shrug   \n",
       "3211                                             Al Sur   \n",
       "3212  Jungle Mantra - From the Netflix Film \"The Whi...   \n",
       "3213                                  Dead Hand Control   \n",
       "3214                                        Roaring 20s   \n",
       "\n",
       "                                       uri                      id  \\\n",
       "0     spotify:track:0892wPiVU3lHRaH7L6l7g1  0892wPiVU3lHRaH7L6l7g1   \n",
       "1     spotify:track:3Zv9r86H4TdZ42xyes7fK0  3Zv9r86H4TdZ42xyes7fK0   \n",
       "2     spotify:track:1dzoPsCEYvZCqhtTNFDccd  1dzoPsCEYvZCqhtTNFDccd   \n",
       "3     spotify:track:3I71FrnbInvfOukpriY0Ig  3I71FrnbInvfOukpriY0Ig   \n",
       "4     spotify:track:1fN8wXmjEXMd5AszEwOHah  1fN8wXmjEXMd5AszEwOHah   \n",
       "...                                    ...                     ...   \n",
       "3210  spotify:track:2BYqJBHBGQ9XQsCWbvEdJh  2BYqJBHBGQ9XQsCWbvEdJh   \n",
       "3211  spotify:track:6mrxKzfu4L3AcDxPwYPjUs  6mrxKzfu4L3AcDxPwYPjUs   \n",
       "3212  spotify:track:2bpdLGinxI9Dqt5fi8zVxF  2bpdLGinxI9Dqt5fi8zVxF   \n",
       "3213  spotify:track:1BpjivIaFve0nwZtC9Cm3t  1BpjivIaFve0nwZtC9Cm3t   \n",
       "3214  spotify:track:5N4oNpf3YH76vNhXKc5usy  5N4oNpf3YH76vNhXKc5usy   \n",
       "\n",
       "                       artist_name  \\\n",
       "0                    Claire Laffut   \n",
       "1                 Juliette Armanet   \n",
       "2                   Flavien Berger   \n",
       "3                            Yuuyu   \n",
       "4                           Garoad   \n",
       "...                            ...   \n",
       "3210                     Rat Tally   \n",
       "3211      The Notwist|Juana Molina   \n",
       "3212  DIVINE|Vince Staples|Pusha T   \n",
       "3213                          Baio   \n",
       "3214                     Flo Milli   \n",
       "\n",
       "                                              artist_id release_date  \\\n",
       "0                                69zVBf7wk5vKWsTF7zE5CC   2018-03-02   \n",
       "1                                61CPKXT0bcKj8MKTNTMOXa   2018-12-11   \n",
       "2                                5PyU5aVBI66v0pkCIvEJfu   2018-09-28   \n",
       "3                                2ZsnzW78Czt4EQAIOlBsWL   2017-11-01   \n",
       "4                                1oMOdABcJgXgiplesecR1U   2017-06-13   \n",
       "...                                                 ...          ...   \n",
       "3210                             7kLaLiBdbGiIC6jYwcpZbb   2021-01-15   \n",
       "3211      1o4xLcugkCtDDOw7POAMha|76hliHkgP5eIbVqLT7NmQ3   2021-01-15   \n",
       "3212  4Ai0pGz6GhQavjzaRhPTvz|68kEuyFKyqrdQQLLsmiatm|...   2021-01-15   \n",
       "3213                             50lhyY7UVI9NyVHl79rVgk   2021-01-15   \n",
       "3214                             08PvCOlef4xdOr20jFSTPd   2021-01-15   \n",
       "\n",
       "                   played_at  \n",
       "0    2020-07-11 19:42:56.742  \n",
       "1    2020-07-11 19:39:10.324  \n",
       "2    2020-07-11 19:35:28.587  \n",
       "3    2020-07-11 19:31:44.249  \n",
       "4    2020-07-11 19:28:05.682  \n",
       "...                      ...  \n",
       "3210 2021-01-28 18:11:04.744  \n",
       "3211 2021-01-28 18:08:33.749  \n",
       "3212 2021-01-28 18:05:51.875  \n",
       "3213 2021-01-28 18:02:10.669  \n",
       "3214 2021-01-28 17:58:35.278  \n",
       "\n",
       "[3215 rows x 7 columns]"
      ]
     },
     "execution_count": 4,
     "metadata": {},
     "output_type": "execute_result"
    }
   ],
   "source": [
    "df"
   ]
  },
  {
   "cell_type": "markdown",
   "metadata": {},
   "source": [
    "### Playback tools (playback.py)"
   ]
  },
  {
   "cell_type": "markdown",
   "metadata": {},
   "source": [
    "#### Search spotify for whatever's on the os clipboard and play the first track in results"
   ]
  },
  {
   "cell_type": "code",
   "execution_count": 8,
   "metadata": {},
   "outputs": [
    {
     "name": "stdout",
     "output_type": "stream",
     "text": [
      "Found track_uri: spotify:track:1o6cCxg925dqC1vykvWFTr\n",
      "Track name: Neon Lights\n",
      "for query: I Break Horses  “Neon Lights”\n",
      "Playing track\n"
     ]
    }
   ],
   "source": [
    "from topspot import playback\n",
    "\n",
    "playback.play_clipboard()"
   ]
  },
  {
   "cell_type": "markdown",
   "metadata": {},
   "source": [
    "#### Get the currently playing track"
   ]
  },
  {
   "cell_type": "code",
   "execution_count": 9,
   "metadata": {},
   "outputs": [],
   "source": [
    "from topspot import playback\n",
    "track = playback.get_current_track()"
   ]
  },
  {
   "cell_type": "code",
   "execution_count": 1,
   "metadata": {},
   "outputs": [],
   "source": [
    "from topspot import utilities\n",
    "sp = utilities.get_user_sp()\n",
    "track = sp.current_playback()"
   ]
  },
  {
   "cell_type": "code",
   "execution_count": 5,
   "metadata": {},
   "outputs": [
    {
     "data": {
      "text/plain": [
       "344847"
      ]
     },
     "execution_count": 5,
     "metadata": {},
     "output_type": "execute_result"
    }
   ],
   "source": [
    "track['item']['duration_ms']"
   ]
  },
  {
   "cell_type": "code",
   "execution_count": null,
   "metadata": {},
   "outputs": [],
   "source": []
  },
  {
   "cell_type": "code",
   "execution_count": 12,
   "metadata": {},
   "outputs": [],
   "source": [
    "def pseudoskip(fraction=0.001):\n",
    "    \"\"\"\n",
    "    Navigate to the very last 0.1 % of currently\n",
    "    playing track. If you do this instead of \n",
    "    skipping the track, it makes it into recently\n",
    "    played.\n",
    "    \"\"\"\n",
    "    sp = utilities.get_user_sp()\n",
    "    current_track = sp.current_playback()\n",
    "    duration_ms = current_track['item']['duration_ms']\n",
    "    target_ms = duration_ms - round(duration_ms*fraction)\n",
    "    sp.seek_track(target_ms)"
   ]
  },
  {
   "cell_type": "code",
   "execution_count": 13,
   "metadata": {},
   "outputs": [],
   "source": [
    "pseudoskip()"
   ]
  },
  {
   "cell_type": "markdown",
   "metadata": {},
   "source": [
    "### Playlist tools (playlist.py)"
   ]
  },
  {
   "cell_type": "markdown",
   "metadata": {},
   "source": [
    "#### Add the currently playing track to the singles playlist for its release month"
   ]
  },
  {
   "cell_type": "code",
   "execution_count": 10,
   "metadata": {},
   "outputs": [
    {
     "name": "stdout",
     "output_type": "stream",
     "text": [
      "Added Neon Lights by I Break Horses to 2020 May\n"
     ]
    }
   ],
   "source": [
    "from topspot import playlist\n",
    "playlist.add_current_track_to_playlist()"
   ]
  },
  {
   "cell_type": "markdown",
   "metadata": {},
   "source": [
    "#### Update playlist database with the 50 user playlists organized at top. \n",
    "Adds playlist name, uri, and id. This database can be used to more easily get playlists by name."
   ]
  },
  {
   "cell_type": "code",
   "execution_count": null,
   "metadata": {},
   "outputs": [],
   "source": [
    "from topspot import playlist\n",
    "playlist.update_database()"
   ]
  },
  {
   "cell_type": "code",
   "execution_count": 12,
   "metadata": {},
   "outputs": [
    {
     "data": {
      "text/html": [
       "<div>\n",
       "<style scoped>\n",
       "    .dataframe tbody tr th:only-of-type {\n",
       "        vertical-align: middle;\n",
       "    }\n",
       "\n",
       "    .dataframe tbody tr th {\n",
       "        vertical-align: top;\n",
       "    }\n",
       "\n",
       "    .dataframe thead th {\n",
       "        text-align: right;\n",
       "    }\n",
       "</style>\n",
       "<table border=\"1\" class=\"dataframe\">\n",
       "  <thead>\n",
       "    <tr style=\"text-align: right;\">\n",
       "      <th></th>\n",
       "      <th>name</th>\n",
       "      <th>uri</th>\n",
       "      <th>id</th>\n",
       "    </tr>\n",
       "  </thead>\n",
       "  <tbody>\n",
       "    <tr>\n",
       "      <th>0</th>\n",
       "      <td>2020 06 N2MG@@O</td>\n",
       "      <td>spotify:playlist:7HirIHPB7NPmvnFiIwnwaR</td>\n",
       "      <td>7HirIHPB7NPmvnFiIwnwaR</td>\n",
       "    </tr>\n",
       "    <tr>\n",
       "      <th>1</th>\n",
       "      <td>2020 05 N2MG@O</td>\n",
       "      <td>spotify:playlist:2ZLHsETXqlpSsJujLRwPuo</td>\n",
       "      <td>2ZLHsETXqlpSsJujLRwPuo</td>\n",
       "    </tr>\n",
       "    <tr>\n",
       "      <th>2</th>\n",
       "      <td>2020 04 N2M G@O</td>\n",
       "      <td>spotify:playlist:6RFcqh5APsKzUK1GKCuRnT</td>\n",
       "      <td>6RFcqh5APsKzUK1GKCuRnT</td>\n",
       "    </tr>\n",
       "    <tr>\n",
       "      <th>3</th>\n",
       "      <td>2020 03 N2MG@O</td>\n",
       "      <td>spotify:playlist:06IymbnqOxlNchDojTeh62</td>\n",
       "      <td>06IymbnqOxlNchDojTeh62</td>\n",
       "    </tr>\n",
       "    <tr>\n",
       "      <th>4</th>\n",
       "      <td>2020 02 N2MG@O</td>\n",
       "      <td>spotify:playlist:2z3CCtWoLCv0n5J7U7zuOK</td>\n",
       "      <td>2z3CCtWoLCv0n5J7U7zuOK</td>\n",
       "    </tr>\n",
       "  </tbody>\n",
       "</table>\n",
       "</div>"
      ],
      "text/plain": [
       "              name                                      uri  \\\n",
       "0  2020 06 N2MG@@O  spotify:playlist:7HirIHPB7NPmvnFiIwnwaR   \n",
       "1   2020 05 N2MG@O  spotify:playlist:2ZLHsETXqlpSsJujLRwPuo   \n",
       "2  2020 04 N2M G@O  spotify:playlist:6RFcqh5APsKzUK1GKCuRnT   \n",
       "3   2020 03 N2MG@O  spotify:playlist:06IymbnqOxlNchDojTeh62   \n",
       "4   2020 02 N2MG@O  spotify:playlist:2z3CCtWoLCv0n5J7U7zuOK   \n",
       "\n",
       "                       id  \n",
       "0  7HirIHPB7NPmvnFiIwnwaR  \n",
       "1  2ZLHsETXqlpSsJujLRwPuo  \n",
       "2  6RFcqh5APsKzUK1GKCuRnT  \n",
       "3  06IymbnqOxlNchDojTeh62  \n",
       "4  2z3CCtWoLCv0n5J7U7zuOK  "
      ]
     },
     "execution_count": 12,
     "metadata": {},
     "output_type": "execute_result"
    }
   ],
   "source": [
    "# Have a look at the existing database\n",
    "from topspot import playlist\n",
    "db = playlist.database()\n",
    "db.head()"
   ]
  },
  {
   "cell_type": "markdown",
   "metadata": {},
   "source": [
    "#### Get user playlist by name"
   ]
  },
  {
   "cell_type": "code",
   "execution_count": 13,
   "metadata": {
    "scrolled": false
   },
   "outputs": [
    {
     "name": "stdout",
     "output_type": "stream",
     "text": [
      "First track of playlist: Saved My Life by Sia\n"
     ]
    }
   ],
   "source": [
    "from topspot import playlist\n",
    "# Look up the playlist\n",
    "pl = playlist.get_playlist_by_name(playlist_name='2020 May')\n",
    "# Find the first track on the playlist, print its\n",
    "# name and artist.\n",
    "first_track = pl['tracks']['items'][0]['track']\n",
    "print(f\"First track of playlist: {first_track['name']} by {first_track['artists'][0]['name']}\")"
   ]
  },
  {
   "cell_type": "markdown",
   "metadata": {},
   "source": [
    "#### Create a new playlist and add it to `playlist.database()`"
   ]
  },
  {
   "cell_type": "code",
   "execution_count": 14,
   "metadata": {
    "scrolled": true
   },
   "outputs": [
    {
     "data": {
      "text/plain": [
       "True"
      ]
     },
     "execution_count": 14,
     "metadata": {},
     "output_type": "execute_result"
    }
   ],
   "source": [
    "from topspot import playlist\n",
    "playlist.new_playlist(public=True)"
   ]
  },
  {
   "cell_type": "markdown",
   "metadata": {},
   "source": [
    "#### Make a dataframe of all tracks (up to length 100, limited by spotify api) on a playlist. Playlist gotten by ID\n",
    "\n",
    "If you don't pass a playlist_id it'll just default to one of my singles playlists"
   ]
  },
  {
   "cell_type": "code",
   "execution_count": 16,
   "metadata": {},
   "outputs": [
    {
     "data": {
      "text/html": [
       "<div>\n",
       "<style scoped>\n",
       "    .dataframe tbody tr th:only-of-type {\n",
       "        vertical-align: middle;\n",
       "    }\n",
       "\n",
       "    .dataframe tbody tr th {\n",
       "        vertical-align: top;\n",
       "    }\n",
       "\n",
       "    .dataframe thead th {\n",
       "        text-align: right;\n",
       "    }\n",
       "</style>\n",
       "<table border=\"1\" class=\"dataframe\">\n",
       "  <thead>\n",
       "    <tr style=\"text-align: right;\">\n",
       "      <th></th>\n",
       "      <th>name</th>\n",
       "      <th>uri</th>\n",
       "      <th>id</th>\n",
       "      <th>artist_name</th>\n",
       "      <th>artist_id</th>\n",
       "      <th>release_date</th>\n",
       "    </tr>\n",
       "  </thead>\n",
       "  <tbody>\n",
       "    <tr>\n",
       "      <th>0</th>\n",
       "      <td>Throwing Stones</td>\n",
       "      <td>spotify:track:7mefpx8BrcYNpl7nV5Jr6h</td>\n",
       "      <td>7mefpx8BrcYNpl7nV5Jr6h</td>\n",
       "      <td>Ardyn</td>\n",
       "      <td>4Ibjhh0sibd5FrMcot5aOu</td>\n",
       "      <td>2017-08-17</td>\n",
       "    </tr>\n",
       "    <tr>\n",
       "      <th>1</th>\n",
       "      <td>Better</td>\n",
       "      <td>spotify:track:7iCbeEbIEFbCP559GvoyYL</td>\n",
       "      <td>7iCbeEbIEFbCP559GvoyYL</td>\n",
       "      <td>Mallrat</td>\n",
       "      <td>4OSArit7O2Jaj4mgf3YN7A</td>\n",
       "      <td>2017-10-13</td>\n",
       "    </tr>\n",
       "    <tr>\n",
       "      <th>2</th>\n",
       "      <td>2 Cool 2 Care</td>\n",
       "      <td>spotify:track:7678cIG4ozfGo5CnVG3YwH</td>\n",
       "      <td>7678cIG4ozfGo5CnVG3YwH</td>\n",
       "      <td>Anna Burch</td>\n",
       "      <td>26OB2jqYqL7pNslVtu4VGt</td>\n",
       "      <td>2017-10-12</td>\n",
       "    </tr>\n",
       "    <tr>\n",
       "      <th>3</th>\n",
       "      <td>I Miss That Feeling</td>\n",
       "      <td>spotify:track:42XZcWNSbZCPQarEodiHbi</td>\n",
       "      <td>42XZcWNSbZCPQarEodiHbi</td>\n",
       "      <td>Tennis</td>\n",
       "      <td>1ybAN3utgdoUL1MUCtH4QM</td>\n",
       "      <td>2017-10-06</td>\n",
       "    </tr>\n",
       "    <tr>\n",
       "      <th>4</th>\n",
       "      <td>drink i'm sippin on</td>\n",
       "      <td>spotify:track:5DmCLnojsZpi5SH2MMBDOW</td>\n",
       "      <td>5DmCLnojsZpi5SH2MMBDOW</td>\n",
       "      <td>Yaeji</td>\n",
       "      <td>2RqrWplViWHSGLzlhmDcbt</td>\n",
       "      <td>2017-10-02</td>\n",
       "    </tr>\n",
       "  </tbody>\n",
       "</table>\n",
       "</div>"
      ],
      "text/plain": [
       "                  name                                   uri  \\\n",
       "0      Throwing Stones  spotify:track:7mefpx8BrcYNpl7nV5Jr6h   \n",
       "1               Better  spotify:track:7iCbeEbIEFbCP559GvoyYL   \n",
       "2        2 Cool 2 Care  spotify:track:7678cIG4ozfGo5CnVG3YwH   \n",
       "3  I Miss That Feeling  spotify:track:42XZcWNSbZCPQarEodiHbi   \n",
       "4  drink i'm sippin on  spotify:track:5DmCLnojsZpi5SH2MMBDOW   \n",
       "\n",
       "                       id artist_name               artist_id release_date  \n",
       "0  7mefpx8BrcYNpl7nV5Jr6h       Ardyn  4Ibjhh0sibd5FrMcot5aOu   2017-08-17  \n",
       "1  7iCbeEbIEFbCP559GvoyYL     Mallrat  4OSArit7O2Jaj4mgf3YN7A   2017-10-13  \n",
       "2  7678cIG4ozfGo5CnVG3YwH  Anna Burch  26OB2jqYqL7pNslVtu4VGt   2017-10-12  \n",
       "3  42XZcWNSbZCPQarEodiHbi      Tennis  1ybAN3utgdoUL1MUCtH4QM   2017-10-06  \n",
       "4  5DmCLnojsZpi5SH2MMBDOW       Yaeji  2RqrWplViWHSGLzlhmDcbt   2017-10-02  "
      ]
     },
     "execution_count": 16,
     "metadata": {},
     "output_type": "execute_result"
    }
   ],
   "source": [
    "from topspot import playlist\n",
    "\n",
    "pl_tracks_df = playlist.make_playlist_tracks_df(playlist_id=\"78twiJHUxmr1JcmCI943fn\")\n",
    "pl_tracks_df.head()"
   ]
  },
  {
   "cell_type": "markdown",
   "metadata": {},
   "source": [
    "#### Make a list of all the track dictionaries in a playlist (gotten by name). Again, only up to 100 tracks\n",
    "\n",
    "If you don't pass a playlist_id it'll just default to one of my singles playlists"
   ]
  },
  {
   "cell_type": "code",
   "execution_count": 17,
   "metadata": {},
   "outputs": [],
   "source": [
    "from topspot import playlist\n",
    "db = playlist.database()\n",
    "track_list = playlist.get_playlist_tracks(playlist_id=db.set_index('name').loc['2020 June', 'id'])"
   ]
  },
  {
   "cell_type": "markdown",
   "metadata": {},
   "source": [
    "Illustrative check to see whether all tracks in singles playlist are actually singles"
   ]
  },
  {
   "cell_type": "code",
   "execution_count": 18,
   "metadata": {},
   "outputs": [
    {
     "name": "stdout",
     "output_type": "stream",
     "text": [
      "All tracks are singles\n"
     ]
    }
   ],
   "source": [
    "total = len(track_list)\n",
    "singles = []\n",
    "for track in track_list:\n",
    "    atype = track['album']['album_type']\n",
    "    if atype == 'single':\n",
    "        singles.append(track)\n",
    "    else:\n",
    "        pass\n",
    "    \n",
    "if total == len(singles):\n",
    "    print(\"All tracks are singles\")"
   ]
  },
  {
   "cell_type": "markdown",
   "metadata": {},
   "source": [
    "#### Make a playlist with all the singles released from artists of interest in the last 100 days"
   ]
  },
  {
   "cell_type": "code",
   "execution_count": 19,
   "metadata": {
    "scrolled": true
   },
   "outputs": [],
   "source": [
    "from topspot import playlist\n",
    "from importlib import reload\n",
    "reload(playlist)\n",
    "playlist.update_singles_playlists(n_artists=3, time_window=100)"
   ]
  },
  {
   "cell_type": "markdown",
   "metadata": {},
   "source": [
    "### Artist tools (artist.py)"
   ]
  },
  {
   "cell_type": "markdown",
   "metadata": {},
   "source": [
    "#### Create a dataframe of the 20 latest albums of type single from an artist"
   ]
  },
  {
   "cell_type": "code",
   "execution_count": 20,
   "metadata": {},
   "outputs": [
    {
     "name": "stdout",
     "output_type": "stream",
     "text": [
      "Compiled singles DataFrame for Migos\n"
     ]
    },
    {
     "data": {
      "text/html": [
       "<div>\n",
       "<style scoped>\n",
       "    .dataframe tbody tr th:only-of-type {\n",
       "        vertical-align: middle;\n",
       "    }\n",
       "\n",
       "    .dataframe tbody tr th {\n",
       "        vertical-align: top;\n",
       "    }\n",
       "\n",
       "    .dataframe thead th {\n",
       "        text-align: right;\n",
       "    }\n",
       "</style>\n",
       "<table border=\"1\" class=\"dataframe\">\n",
       "  <thead>\n",
       "    <tr style=\"text-align: right;\">\n",
       "      <th></th>\n",
       "      <th>artist_name</th>\n",
       "      <th>artist_id</th>\n",
       "      <th>album_title</th>\n",
       "      <th>album_id</th>\n",
       "      <th>explicit_tracks</th>\n",
       "      <th>release_date</th>\n",
       "      <th>album_uri</th>\n",
       "    </tr>\n",
       "  </thead>\n",
       "  <tbody>\n",
       "    <tr>\n",
       "      <th>0</th>\n",
       "      <td>Migos</td>\n",
       "      <td>6oMuImdp5ZcFhWP0ESe6mG</td>\n",
       "      <td>Need It</td>\n",
       "      <td>3L3WBqghAN3LeGZa5eRIBk</td>\n",
       "      <td>True</td>\n",
       "      <td>2020-05-22</td>\n",
       "      <td>spotify:album:3L3WBqghAN3LeGZa5eRIBk</td>\n",
       "    </tr>\n",
       "    <tr>\n",
       "      <th>1</th>\n",
       "      <td>Migos</td>\n",
       "      <td>6oMuImdp5ZcFhWP0ESe6mG</td>\n",
       "      <td>Racks 2 Skinny</td>\n",
       "      <td>3PASWLvNfvfMF68dDznEgK</td>\n",
       "      <td>True</td>\n",
       "      <td>2020-05-11</td>\n",
       "      <td>spotify:album:3PASWLvNfvfMF68dDznEgK</td>\n",
       "    </tr>\n",
       "    <tr>\n",
       "      <th>2</th>\n",
       "      <td>Migos</td>\n",
       "      <td>6oMuImdp5ZcFhWP0ESe6mG</td>\n",
       "      <td>Taco Tuesday</td>\n",
       "      <td>42SNLQYdeiybSNLIxVA2yn</td>\n",
       "      <td>True</td>\n",
       "      <td>2020-05-05</td>\n",
       "      <td>spotify:album:42SNLQYdeiybSNLIxVA2yn</td>\n",
       "    </tr>\n",
       "    <tr>\n",
       "      <th>3</th>\n",
       "      <td>Migos</td>\n",
       "      <td>6oMuImdp5ZcFhWP0ESe6mG</td>\n",
       "      <td>Give No Fxk</td>\n",
       "      <td>5PGZpfzDkbbTvhDAuZlSQo</td>\n",
       "      <td>True</td>\n",
       "      <td>2020-02-14</td>\n",
       "      <td>spotify:album:5PGZpfzDkbbTvhDAuZlSQo</td>\n",
       "    </tr>\n",
       "    <tr>\n",
       "      <th>4</th>\n",
       "      <td>Migos</td>\n",
       "      <td>6oMuImdp5ZcFhWP0ESe6mG</td>\n",
       "      <td>Frosted Flakes</td>\n",
       "      <td>3UXeJSdcjjv1rzRztFhiL4</td>\n",
       "      <td>True</td>\n",
       "      <td>2019-08-14</td>\n",
       "      <td>spotify:album:3UXeJSdcjjv1rzRztFhiL4</td>\n",
       "    </tr>\n",
       "  </tbody>\n",
       "</table>\n",
       "</div>"
      ],
      "text/plain": [
       "  artist_name               artist_id     album_title                album_id  \\\n",
       "0       Migos  6oMuImdp5ZcFhWP0ESe6mG         Need It  3L3WBqghAN3LeGZa5eRIBk   \n",
       "1       Migos  6oMuImdp5ZcFhWP0ESe6mG  Racks 2 Skinny  3PASWLvNfvfMF68dDznEgK   \n",
       "2       Migos  6oMuImdp5ZcFhWP0ESe6mG    Taco Tuesday  42SNLQYdeiybSNLIxVA2yn   \n",
       "3       Migos  6oMuImdp5ZcFhWP0ESe6mG     Give No Fxk  5PGZpfzDkbbTvhDAuZlSQo   \n",
       "4       Migos  6oMuImdp5ZcFhWP0ESe6mG  Frosted Flakes  3UXeJSdcjjv1rzRztFhiL4   \n",
       "\n",
       "  explicit_tracks release_date                             album_uri  \n",
       "0            True   2020-05-22  spotify:album:3L3WBqghAN3LeGZa5eRIBk  \n",
       "1            True   2020-05-11  spotify:album:3PASWLvNfvfMF68dDznEgK  \n",
       "2            True   2020-05-05  spotify:album:42SNLQYdeiybSNLIxVA2yn  \n",
       "3            True   2020-02-14  spotify:album:5PGZpfzDkbbTvhDAuZlSQo  \n",
       "4            True   2019-08-14  spotify:album:3UXeJSdcjjv1rzRztFhiL4  "
      ]
     },
     "execution_count": 20,
     "metadata": {},
     "output_type": "execute_result"
    }
   ],
   "source": [
    "from topspot import artist\n",
    "from importlib import reload\n",
    "reload(artist)\n",
    "singles_df = artist.singles_df(artist_name='Migos')\n",
    "singles_df.head()"
   ]
  },
  {
   "cell_type": "markdown",
   "metadata": {},
   "source": [
    "#### Create a dataframe containing the 20 most recent singles for every first artist featured in playlist.dataframe()"
   ]
  },
  {
   "cell_type": "code",
   "execution_count": 21,
   "metadata": {},
   "outputs": [
    {
     "name": "stdout",
     "output_type": "stream",
     "text": [
      "Collecting for singles from artist: Lady Gaga (Artist 1 of 2)\n",
      "Compiled singles DataFrame for Lady Gaga\n",
      "Collecting for singles from artist: Kamaiyah (Artist 2 of 2)\n",
      "Compiled singles DataFrame for Kamaiyah\n"
     ]
    },
    {
     "data": {
      "text/html": [
       "<div>\n",
       "<style scoped>\n",
       "    .dataframe tbody tr th:only-of-type {\n",
       "        vertical-align: middle;\n",
       "    }\n",
       "\n",
       "    .dataframe tbody tr th {\n",
       "        vertical-align: top;\n",
       "    }\n",
       "\n",
       "    .dataframe thead th {\n",
       "        text-align: right;\n",
       "    }\n",
       "</style>\n",
       "<table border=\"1\" class=\"dataframe\">\n",
       "  <thead>\n",
       "    <tr style=\"text-align: right;\">\n",
       "      <th></th>\n",
       "      <th>artist_name</th>\n",
       "      <th>artist_id</th>\n",
       "      <th>album_title</th>\n",
       "      <th>album_id</th>\n",
       "      <th>explicit_tracks</th>\n",
       "      <th>release_date</th>\n",
       "      <th>album_uri</th>\n",
       "    </tr>\n",
       "  </thead>\n",
       "  <tbody>\n",
       "    <tr>\n",
       "      <th>0</th>\n",
       "      <td>Lady Gaga</td>\n",
       "      <td>1HY2Jd0NmPuamShAr6KMms</td>\n",
       "      <td>Sour Candy (with BLACKPINK)</td>\n",
       "      <td>6y6lP1WRfqEhv8RLy4ufZB</td>\n",
       "      <td>False</td>\n",
       "      <td>2020-05-28</td>\n",
       "      <td>spotify:album:6y6lP1WRfqEhv8RLy4ufZB</td>\n",
       "    </tr>\n",
       "    <tr>\n",
       "      <th>1</th>\n",
       "      <td>Lady Gaga</td>\n",
       "      <td>1HY2Jd0NmPuamShAr6KMms</td>\n",
       "      <td>Rain On Me (with Ariana Grande)</td>\n",
       "      <td>4TqgXMSSTwP3RCo3MMSR6t</td>\n",
       "      <td>False</td>\n",
       "      <td>2020-05-22</td>\n",
       "      <td>spotify:album:4TqgXMSSTwP3RCo3MMSR6t</td>\n",
       "    </tr>\n",
       "    <tr>\n",
       "      <th>2</th>\n",
       "      <td>Lady Gaga</td>\n",
       "      <td>1HY2Jd0NmPuamShAr6KMms</td>\n",
       "      <td>Stupid Love (Vitaclub Warehouse Mix)</td>\n",
       "      <td>4WzXApqZ4kE30TDjH1bKQi</td>\n",
       "      <td>False</td>\n",
       "      <td>2020-05-15</td>\n",
       "      <td>spotify:album:4WzXApqZ4kE30TDjH1bKQi</td>\n",
       "    </tr>\n",
       "    <tr>\n",
       "      <th>3</th>\n",
       "      <td>Lady Gaga</td>\n",
       "      <td>1HY2Jd0NmPuamShAr6KMms</td>\n",
       "      <td>Stupid Love</td>\n",
       "      <td>2HDW1EX8IBI3jqobswAfrZ</td>\n",
       "      <td>False</td>\n",
       "      <td>2020-02-28</td>\n",
       "      <td>spotify:album:2HDW1EX8IBI3jqobswAfrZ</td>\n",
       "    </tr>\n",
       "    <tr>\n",
       "      <th>4</th>\n",
       "      <td>Lady Gaga</td>\n",
       "      <td>1HY2Jd0NmPuamShAr6KMms</td>\n",
       "      <td>Your Song</td>\n",
       "      <td>7hdQxJEgGZX4d92LKEhyt3</td>\n",
       "      <td>False</td>\n",
       "      <td>2018-03-30</td>\n",
       "      <td>spotify:album:7hdQxJEgGZX4d92LKEhyt3</td>\n",
       "    </tr>\n",
       "  </tbody>\n",
       "</table>\n",
       "</div>"
      ],
      "text/plain": [
       "  artist_name               artist_id                           album_title  \\\n",
       "0   Lady Gaga  1HY2Jd0NmPuamShAr6KMms           Sour Candy (with BLACKPINK)   \n",
       "1   Lady Gaga  1HY2Jd0NmPuamShAr6KMms       Rain On Me (with Ariana Grande)   \n",
       "2   Lady Gaga  1HY2Jd0NmPuamShAr6KMms  Stupid Love (Vitaclub Warehouse Mix)   \n",
       "3   Lady Gaga  1HY2Jd0NmPuamShAr6KMms                           Stupid Love   \n",
       "4   Lady Gaga  1HY2Jd0NmPuamShAr6KMms                             Your Song   \n",
       "\n",
       "                 album_id explicit_tracks release_date  \\\n",
       "0  6y6lP1WRfqEhv8RLy4ufZB           False   2020-05-28   \n",
       "1  4TqgXMSSTwP3RCo3MMSR6t           False   2020-05-22   \n",
       "2  4WzXApqZ4kE30TDjH1bKQi           False   2020-05-15   \n",
       "3  2HDW1EX8IBI3jqobswAfrZ           False   2020-02-28   \n",
       "4  7hdQxJEgGZX4d92LKEhyt3           False   2018-03-30   \n",
       "\n",
       "                              album_uri  \n",
       "0  spotify:album:6y6lP1WRfqEhv8RLy4ufZB  \n",
       "1  spotify:album:4TqgXMSSTwP3RCo3MMSR6t  \n",
       "2  spotify:album:4WzXApqZ4kE30TDjH1bKQi  \n",
       "3  spotify:album:2HDW1EX8IBI3jqobswAfrZ  \n",
       "4  spotify:album:7hdQxJEgGZX4d92LKEhyt3  "
      ]
     },
     "execution_count": 21,
     "metadata": {},
     "output_type": "execute_result"
    }
   ],
   "source": [
    "from topspot import artist\n",
    "df = artist.all_artists_singles_df()\n",
    "df.head()"
   ]
  },
  {
   "cell_type": "markdown",
   "metadata": {},
   "source": [
    "### Modify playlist.add_track_to_playlist() so that it checks whether playlist length == 100. If so start a new playlist (original_playlist B or something)."
   ]
  },
  {
   "cell_type": "markdown",
   "metadata": {},
   "source": [
    "### Need to add controls for seeking in track. Will replace shift + left/right arrow to seek in track, which currently requires spotify to be the active window. "
   ]
  },
  {
   "cell_type": "markdown",
   "metadata": {},
   "source": [
    "### Integration with feedly api"
   ]
  }
 ],
 "metadata": {
  "kernelspec": {
   "display_name": ".topspot",
   "language": "python",
   "name": ".topspot"
  },
  "language_info": {
   "codemirror_mode": {
    "name": "ipython",
    "version": 3
   },
   "file_extension": ".py",
   "mimetype": "text/x-python",
   "name": "python",
   "nbconvert_exporter": "python",
   "pygments_lexer": "ipython3",
   "version": "3.8.2"
  }
 },
 "nbformat": 4,
 "nbformat_minor": 4
}
